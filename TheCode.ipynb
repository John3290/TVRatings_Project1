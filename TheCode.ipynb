{
 "cells": [
  {
   "cell_type": "code",
   "execution_count": 2,
   "metadata": {},
   "outputs": [],
   "source": [
    "#Dependencies\n",
    "import requests\n",
    "import json\n",
    "import pandas as pd\n",
    "import numpy as np\n",
    "from numpy import random \n",
    "import matplotlib.pyplot as plt\n",
    "from collections import deque"
   ]
  },
  {
   "cell_type": "code",
   "execution_count": 3,
   "metadata": {},
   "outputs": [],
   "source": [
    "# tv maze show search base url (this is to search for individual shows)\n",
    "base_url = \"http://api.tvmaze.com/search/shows?q=\""
   ]
  },
  {
   "cell_type": "code",
   "execution_count": 6,
   "metadata": {},
   "outputs": [
    {
     "ename": "SyntaxError",
     "evalue": "invalid syntax (<ipython-input-6-cf665c0129fc>, line 47)",
     "output_type": "error",
     "traceback": [
      "\u001b[0;36m  File \u001b[0;32m\"<ipython-input-6-cf665c0129fc>\"\u001b[0;36m, line \u001b[0;32m47\u001b[0m\n\u001b[0;31m    for w in response{'network'}:\u001b[0m\n\u001b[0m                     ^\u001b[0m\n\u001b[0;31mSyntaxError\u001b[0m\u001b[0;31m:\u001b[0m invalid syntax\n"
     ]
    }
   ],
   "source": [
    "#Question 1\n",
    "#Which Network, on average, have the highest TV show rating?\n",
    "\n",
    "#calc random page numbers as sample\n",
    "\n",
    "\n",
    "\n",
    "#URL for all primary information for every show in the database\n",
    "\n",
    "q1URL = \"http://api.tvmaze.com/shows?page=\"\n",
    "#TO DO: Make the page numbers randomly generated?\n",
    "pages = [\"0\",\"1\",\"2\",\"3\",\"4\",\"5\",\"6\", \"7\", \"8\", \"9\"]\n",
    "recordnum=1\n",
    "\n",
    "networks = []\n",
    "ratings= []\n",
    "ids=[]\n",
    "listlength = len(ids)\n",
    "\n",
    "\n",
    "\n",
    "#this pulls every ID from the first 10 pages\n",
    "for page in pages:\n",
    "    target_urlq1 = q1URL + page\n",
    "    response =requests.get(target_urlq1).json()\n",
    "    for x in response:\n",
    "        ids.append(x['id'])\n",
    "print(f\"ids done\")\n",
    "\n",
    "#this pulls every rating average from the first 10 pages\n",
    "for page in pages:\n",
    "    target_urlq1 = q1URL + page\n",
    "    response =requests.get(target_urlq1).json()    \n",
    "    for i in response:\n",
    "        ratings.append(i['rating']['average'])\n",
    "        \n",
    "print(f\"ratings done\")\n",
    "\n",
    "\n",
    "\n",
    "\n",
    "#the same syntax doesn't work for the networks list. Error: \"list indices must be integers or slices, not str\" at the nested for loop\n",
    "for page in pages:\n",
    "    target_urlq1 = q1URL + page\n",
    "    response =requests.get(target_urlq1).json()\n",
    "    try:\n",
    "        for w in response['network']:\n",
    "            networks.append(w['network']['name'])\n",
    "    except:\n",
    "        print(\"not this time- networks pull issue\")\n",
    "\n",
    "   \n",
    "print(f\"networks done\")\n",
    "    \n",
    "\n",
    "    \n",
    "    \n",
    "#maybe not needed but keeping code just in case:   \n",
    "#associating IDs which are the only unique value in the API with network names and ratings so that we could merge the dictionaries later?    \n",
    "#zip_it1 = zip(ids, networks)\n",
    "#zip_it2 = zip(ids, ratings)\n",
    "#dictionary1 = dict(zip_it1)\n",
    "#dictionary2 = dict(zip_it2) \n",
    "   "
   ]
  },
  {
   "cell_type": "code",
   "execution_count": 1,
   "metadata": {
    "scrolled": true
   },
   "outputs": [
    {
     "ename": "NameError",
     "evalue": "name 'pd' is not defined",
     "output_type": "error",
     "traceback": [
      "\u001b[0;31m---------------------------------------------------------------------------\u001b[0m",
      "\u001b[0;31mNameError\u001b[0m                                 Traceback (most recent call last)",
      "\u001b[0;32m<ipython-input-1-e65568fa2f9b>\u001b[0m in \u001b[0;36m<module>\u001b[0;34m\u001b[0m\n\u001b[1;32m      1\u001b[0m \u001b[0;31m#Question 1\u001b[0m\u001b[0;34m\u001b[0m\u001b[0;34m\u001b[0m\u001b[0;34m\u001b[0m\u001b[0m\n\u001b[1;32m      2\u001b[0m \u001b[0;31m#create df\u001b[0m\u001b[0;34m\u001b[0m\u001b[0;34m\u001b[0m\u001b[0;34m\u001b[0m\u001b[0m\n\u001b[0;32m----> 3\u001b[0;31m \u001b[0mquest1df\u001b[0m \u001b[0;34m=\u001b[0m \u001b[0mpd\u001b[0m\u001b[0;34m.\u001b[0m\u001b[0mDataFrame\u001b[0m\u001b[0;34m(\u001b[0m\u001b[0;34m{\u001b[0m\u001b[0;34m'IDs'\u001b[0m\u001b[0;34m:\u001b[0m \u001b[0mids\u001b[0m\u001b[0;34m,\u001b[0m \u001b[0;34m\"Networks\"\u001b[0m\u001b[0;34m:\u001b[0m \u001b[0mnetworks\u001b[0m\u001b[0;34m,\u001b[0m \u001b[0;34m\"Ratings\"\u001b[0m\u001b[0;34m:\u001b[0m \u001b[0mratings\u001b[0m\u001b[0;34m}\u001b[0m\u001b[0;34m)\u001b[0m\u001b[0;34m\u001b[0m\u001b[0;34m\u001b[0m\u001b[0m\n\u001b[0m\u001b[1;32m      4\u001b[0m \u001b[0mquest1df\u001b[0m\u001b[0;34m.\u001b[0m\u001b[0mhead\u001b[0m\u001b[0;34m(\u001b[0m\u001b[0;36m50\u001b[0m\u001b[0;34m)\u001b[0m\u001b[0;34m\u001b[0m\u001b[0;34m\u001b[0m\u001b[0m\n",
      "\u001b[0;31mNameError\u001b[0m: name 'pd' is not defined"
     ]
    }
   ],
   "source": [
    "#Question 1\n",
    "#create df \n",
    "quest1df = pd.DataFrame({'IDs': ids, \"Networks\": networks, \"Ratings\": ratings})\n",
    "quest1df.head(50)\n"
   ]
  },
  {
   "cell_type": "code",
   "execution_count": 7,
   "metadata": {},
   "outputs": [],
   "source": [
    "#Question 2\n",
    "#Which TV Show Genres are the most popular?"
   ]
  },
  {
   "cell_type": "code",
   "execution_count": 8,
   "metadata": {},
   "outputs": [],
   "source": [
    "#Question 3\n",
    "#Which show has the longest running season?"
   ]
  },
  {
   "cell_type": "code",
   "execution_count": 9,
   "metadata": {},
   "outputs": [],
   "source": [
    "#Question 4\n",
    "#Which day of the week has a higher average TV show rating?"
   ]
  }
 ],
 "metadata": {
  "kernelspec": {
   "display_name": "Python 3",
   "language": "python",
   "name": "python3"
  },
  "language_info": {
   "codemirror_mode": {
    "name": "ipython",
    "version": 3
   },
   "file_extension": ".py",
   "mimetype": "text/x-python",
   "name": "python",
   "nbconvert_exporter": "python",
   "pygments_lexer": "ipython3",
   "version": "3.8.3"
  }
 },
 "nbformat": 4,
 "nbformat_minor": 4
}
