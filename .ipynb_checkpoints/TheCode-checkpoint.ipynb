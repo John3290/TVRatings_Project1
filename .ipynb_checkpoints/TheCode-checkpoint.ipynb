{
 "cells": [
  {
   "cell_type": "code",
   "execution_count": 32,
   "metadata": {},
   "outputs": [],
   "source": [
    "#Dependencies\n",
    "import requests\n",
    "import json\n",
    "import pandas as pd\n",
    "import numpy as np\n",
    "import matplotlib.pyplot as plt\n",
    "from collections import deque"
   ]
  },
  {
   "cell_type": "code",
   "execution_count": 33,
   "metadata": {},
   "outputs": [],
   "source": [
    "# tv maze show search base url (this is to search for individual shows)\n",
    "base_url = \"http://api.tvmaze.com/search/shows?q=\""
   ]
  },
  {
   "cell_type": "code",
   "execution_count": 62,
   "metadata": {},
   "outputs": [],
   "source": [
    "#Question 1\n",
    "#Which Network, on average, have the highest TV show rating?\n",
    "\n",
    "#URL for all primary information for every show in the database\n",
    "q1URL = \"http://api.tvmaze.com/shows?page=\"\n",
    "pages = [\"0\",\"1\",\"2\",\"3\",\"4\",\"5\",\"6\", \"7\", \"8\", \"9\"]\n",
    "recordnum=1\n",
    "\n",
    "networks = []\n",
    "ratings= []\n",
    "ids = []\n",
    "\n",
    "\n",
    "\n",
    "\n",
    "#this is currently just pulling the first show from every page... \n",
    "#note, every page has up to 250 IDs. First page, page 0, starts at ID 0\n",
    "#how to get it to pull the rest of the shows from the pages?\n",
    "for page in pages:\n",
    "    target_urlq1 = q1URL + page\n",
    "    response =requests.get(target_urlq1).json()\n",
    "    ids.append(response[0]['id'])\n",
    "    networks.append(response[0]['network']['name'])\n",
    "    ratings.append(response[0]['rating']['average'])\n",
    "    \n",
    "#associating IDs which are the only unique value in the API with network names and ratings so that we could merge the dictionaries later?    \n",
    "zip_it1 = zip(ids, networks)\n",
    "zip_it2 = zip(ids, ratings)\n",
    "dictionary1 = dict(zip_it1)\n",
    "dictionary2 = dict(zip_it2)\n",
    "   \n",
    "    \n",
    "   "
   ]
  },
  {
   "cell_type": "code",
   "execution_count": 64,
   "metadata": {
    "scrolled": true
   },
   "outputs": [
    {
     "data": {
      "text/html": [
       "<div>\n",
       "<style scoped>\n",
       "    .dataframe tbody tr th:only-of-type {\n",
       "        vertical-align: middle;\n",
       "    }\n",
       "\n",
       "    .dataframe tbody tr th {\n",
       "        vertical-align: top;\n",
       "    }\n",
       "\n",
       "    .dataframe thead th {\n",
       "        text-align: right;\n",
       "    }\n",
       "</style>\n",
       "<table border=\"1\" class=\"dataframe\">\n",
       "  <thead>\n",
       "    <tr style=\"text-align: right;\">\n",
       "      <th></th>\n",
       "      <th>IDs</th>\n",
       "      <th>Networks</th>\n",
       "      <th>Ratings</th>\n",
       "    </tr>\n",
       "  </thead>\n",
       "  <tbody>\n",
       "    <tr>\n",
       "      <th>0</th>\n",
       "      <td>1</td>\n",
       "      <td>CBS</td>\n",
       "      <td>6.5</td>\n",
       "    </tr>\n",
       "    <tr>\n",
       "      <th>1</th>\n",
       "      <td>250</td>\n",
       "      <td>Disney XD</td>\n",
       "      <td>NaN</td>\n",
       "    </tr>\n",
       "    <tr>\n",
       "      <th>2</th>\n",
       "      <td>500</td>\n",
       "      <td>Syndication</td>\n",
       "      <td>7.4</td>\n",
       "    </tr>\n",
       "    <tr>\n",
       "      <th>3</th>\n",
       "      <td>750</td>\n",
       "      <td>Bravo</td>\n",
       "      <td>6.8</td>\n",
       "    </tr>\n",
       "    <tr>\n",
       "      <th>4</th>\n",
       "      <td>1000</td>\n",
       "      <td>Adult Swim</td>\n",
       "      <td>7.6</td>\n",
       "    </tr>\n",
       "    <tr>\n",
       "      <th>5</th>\n",
       "      <td>1250</td>\n",
       "      <td>CBS</td>\n",
       "      <td>6.3</td>\n",
       "    </tr>\n",
       "    <tr>\n",
       "      <th>6</th>\n",
       "      <td>1500</td>\n",
       "      <td>ABC</td>\n",
       "      <td>8.0</td>\n",
       "    </tr>\n",
       "    <tr>\n",
       "      <th>7</th>\n",
       "      <td>1750</td>\n",
       "      <td>MBS</td>\n",
       "      <td>7.5</td>\n",
       "    </tr>\n",
       "    <tr>\n",
       "      <th>8</th>\n",
       "      <td>2000</td>\n",
       "      <td>NBC</td>\n",
       "      <td>8.3</td>\n",
       "    </tr>\n",
       "    <tr>\n",
       "      <th>9</th>\n",
       "      <td>2250</td>\n",
       "      <td>Oxygen</td>\n",
       "      <td>NaN</td>\n",
       "    </tr>\n",
       "  </tbody>\n",
       "</table>\n",
       "</div>"
      ],
      "text/plain": [
       "    IDs     Networks  Ratings\n",
       "0     1          CBS      6.5\n",
       "1   250    Disney XD      NaN\n",
       "2   500  Syndication      7.4\n",
       "3   750        Bravo      6.8\n",
       "4  1000   Adult Swim      7.6\n",
       "5  1250          CBS      6.3\n",
       "6  1500          ABC      8.0\n",
       "7  1750          MBS      7.5\n",
       "8  2000          NBC      8.3\n",
       "9  2250       Oxygen      NaN"
      ]
     },
     "execution_count": 64,
     "metadata": {},
     "output_type": "execute_result"
    }
   ],
   "source": [
    "#Question 1\n",
    "#create df \n",
    "quest1df = pd.DataFrame({'IDs': ids, \"Networks\": networks, \"Ratings\": ratings})\n",
    "quest1df\n"
   ]
  },
  {
   "cell_type": "code",
   "execution_count": null,
   "metadata": {},
   "outputs": [],
   "source": [
    "#Question 2\n",
    "#Which TV Show Genres are the most popular?"
   ]
  },
  {
   "cell_type": "code",
   "execution_count": null,
   "metadata": {},
   "outputs": [],
   "source": [
    "#Question 3\n",
    "#Which show has the longest running season?"
   ]
  },
  {
   "cell_type": "code",
   "execution_count": null,
   "metadata": {},
   "outputs": [],
   "source": [
    "#Question 4\n",
    "#Which day of the week has a higher average TV show rating?"
   ]
  }
 ],
 "metadata": {
  "kernelspec": {
   "display_name": "Python 3",
   "language": "python",
   "name": "python3"
  },
  "language_info": {
   "codemirror_mode": {
    "name": "ipython",
    "version": 3
   },
   "file_extension": ".py",
   "mimetype": "text/x-python",
   "name": "python",
   "nbconvert_exporter": "python",
   "pygments_lexer": "ipython3",
   "version": "3.8.3"
  }
 },
 "nbformat": 4,
 "nbformat_minor": 4
}
