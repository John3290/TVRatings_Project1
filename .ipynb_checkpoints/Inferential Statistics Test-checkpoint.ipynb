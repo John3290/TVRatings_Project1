{
 "cells": [
  {
   "cell_type": "code",
   "execution_count": null,
   "metadata": {},
   "outputs": [],
   "source": [
    "## how to load in CSVs\n",
    "\n",
    "# Study data files\n",
    "mouse_metadata_path = \"data/Mouse_metadata.csv\"\n",
    "study_results_path = \"data/Study_results.csv\"\n",
    "\n",
    "# Read the mouse data and the study results\n",
    "mouse_metadata = pd.read_csv(mouse_metadata_path)\n",
    "study_results = pd.read_csv(study_results_path)\n",
    "\n"
   ]
  },
  {
   "cell_type": "code",
   "execution_count": 106,
   "metadata": {},
   "outputs": [],
   "source": [
    "import requests\n",
    "import json\n",
    "import pandas as pd\n",
    "import numpy as np\n",
    "from numpy import random \n",
    "import matplotlib.pyplot as plt\n",
    "from scipy.stats import levene\n",
    "import scipy.stats as stats\n",
    "\n",
    "from collections import deque\n",
    "from scipy.stats import linregress\n",
    "from scipy.stats import wilcoxon\n",
    "from scipy import stats"
   ]
  },
  {
   "cell_type": "markdown",
   "metadata": {},
   "source": [
    "# Network Analyses\n"
   ]
  },
  {
   "cell_type": "code",
   "execution_count": 8,
   "metadata": {},
   "outputs": [],
   "source": [
    "# Study data files\n",
    "\n",
    "AllNetworks = \"Data/NetworkRatingData.csv\"\n",
    "\n",
    "# Read the Network data and the study results\n",
    "\n",
    "allnetworkdata = pd.read_csv(AllNetworks)"
   ]
  },
  {
   "cell_type": "code",
   "execution_count": 10,
   "metadata": {},
   "outputs": [
    {
     "name": "stdout",
     "output_type": "stream",
     "text": [
      "11804\n"
     ]
    }
   ],
   "source": [
    "print(len(allnetworkdata))"
   ]
  },
  {
   "cell_type": "code",
   "execution_count": 21,
   "metadata": {},
   "outputs": [
    {
     "data": {
      "text/html": [
       "<div>\n",
       "<style scoped>\n",
       "    .dataframe tbody tr th:only-of-type {\n",
       "        vertical-align: middle;\n",
       "    }\n",
       "\n",
       "    .dataframe tbody tr th {\n",
       "        vertical-align: top;\n",
       "    }\n",
       "\n",
       "    .dataframe thead th {\n",
       "        text-align: right;\n",
       "    }\n",
       "</style>\n",
       "<table border=\"1\" class=\"dataframe\">\n",
       "  <thead>\n",
       "    <tr style=\"text-align: right;\">\n",
       "      <th></th>\n",
       "      <th>IDs</th>\n",
       "      <th>Networks</th>\n",
       "      <th>Ratings</th>\n",
       "    </tr>\n",
       "  </thead>\n",
       "  <tbody>\n",
       "    <tr>\n",
       "      <th>0</th>\n",
       "      <td>1</td>\n",
       "      <td>CBS</td>\n",
       "      <td>6.5</td>\n",
       "    </tr>\n",
       "    <tr>\n",
       "      <th>1</th>\n",
       "      <td>2</td>\n",
       "      <td>CBS</td>\n",
       "      <td>8.9</td>\n",
       "    </tr>\n",
       "    <tr>\n",
       "      <th>2</th>\n",
       "      <td>3</td>\n",
       "      <td>CTV Sci-Fi Channel</td>\n",
       "      <td>7.5</td>\n",
       "    </tr>\n",
       "    <tr>\n",
       "      <th>3</th>\n",
       "      <td>4</td>\n",
       "      <td>The CW</td>\n",
       "      <td>7.4</td>\n",
       "    </tr>\n",
       "    <tr>\n",
       "      <th>4</th>\n",
       "      <td>5</td>\n",
       "      <td>HBO</td>\n",
       "      <td>8.3</td>\n",
       "    </tr>\n",
       "    <tr>\n",
       "      <th>5</th>\n",
       "      <td>6</td>\n",
       "      <td>The CW</td>\n",
       "      <td>7.7</td>\n",
       "    </tr>\n",
       "    <tr>\n",
       "      <th>6</th>\n",
       "      <td>7</td>\n",
       "      <td>Showtime</td>\n",
       "      <td>8.2</td>\n",
       "    </tr>\n",
       "    <tr>\n",
       "      <th>7</th>\n",
       "      <td>8</td>\n",
       "      <td>FOX</td>\n",
       "      <td>6.8</td>\n",
       "    </tr>\n",
       "    <tr>\n",
       "      <th>8</th>\n",
       "      <td>9</td>\n",
       "      <td>ABC</td>\n",
       "      <td>7.8</td>\n",
       "    </tr>\n",
       "    <tr>\n",
       "      <th>9</th>\n",
       "      <td>10</td>\n",
       "      <td>NBC</td>\n",
       "      <td>8.5</td>\n",
       "    </tr>\n",
       "    <tr>\n",
       "      <th>10</th>\n",
       "      <td>11</td>\n",
       "      <td>FOX</td>\n",
       "      <td>7.7</td>\n",
       "    </tr>\n",
       "    <tr>\n",
       "      <th>11</th>\n",
       "      <td>12</td>\n",
       "      <td>Showcase</td>\n",
       "      <td>8.1</td>\n",
       "    </tr>\n",
       "    <tr>\n",
       "      <th>12</th>\n",
       "      <td>13</td>\n",
       "      <td>The CW</td>\n",
       "      <td>7.8</td>\n",
       "    </tr>\n",
       "    <tr>\n",
       "      <th>13</th>\n",
       "      <td>14</td>\n",
       "      <td>Showcase</td>\n",
       "      <td>8.2</td>\n",
       "    </tr>\n",
       "    <tr>\n",
       "      <th>14</th>\n",
       "      <td>15</td>\n",
       "      <td>NBC</td>\n",
       "      <td>7.5</td>\n",
       "    </tr>\n",
       "    <tr>\n",
       "      <th>15</th>\n",
       "      <td>16</td>\n",
       "      <td>Showtime</td>\n",
       "      <td>8.3</td>\n",
       "    </tr>\n",
       "    <tr>\n",
       "      <th>16</th>\n",
       "      <td>18</td>\n",
       "      <td>CBS</td>\n",
       "      <td>7.8</td>\n",
       "    </tr>\n",
       "    <tr>\n",
       "      <th>17</th>\n",
       "      <td>19</td>\n",
       "      <td>The CW</td>\n",
       "      <td>8.4</td>\n",
       "    </tr>\n",
       "    <tr>\n",
       "      <th>18</th>\n",
       "      <td>20</td>\n",
       "      <td>FX</td>\n",
       "      <td>7.5</td>\n",
       "    </tr>\n",
       "    <tr>\n",
       "      <th>19</th>\n",
       "      <td>21</td>\n",
       "      <td>TNT</td>\n",
       "      <td>7.5</td>\n",
       "    </tr>\n",
       "    <tr>\n",
       "      <th>20</th>\n",
       "      <td>22</td>\n",
       "      <td>HBO</td>\n",
       "      <td>7.8</td>\n",
       "    </tr>\n",
       "    <tr>\n",
       "      <th>21</th>\n",
       "      <td>23</td>\n",
       "      <td>ABC</td>\n",
       "      <td>6.7</td>\n",
       "    </tr>\n",
       "    <tr>\n",
       "      <th>22</th>\n",
       "      <td>24</td>\n",
       "      <td>CBS</td>\n",
       "      <td>7.6</td>\n",
       "    </tr>\n",
       "    <tr>\n",
       "      <th>23</th>\n",
       "      <td>25</td>\n",
       "      <td>Fuji TV</td>\n",
       "      <td>7.8</td>\n",
       "    </tr>\n",
       "    <tr>\n",
       "      <th>24</th>\n",
       "      <td>26</td>\n",
       "      <td>TBS</td>\n",
       "      <td>8.3</td>\n",
       "    </tr>\n",
       "    <tr>\n",
       "      <th>25</th>\n",
       "      <td>27</td>\n",
       "      <td>NTV</td>\n",
       "      <td>8.8</td>\n",
       "    </tr>\n",
       "    <tr>\n",
       "      <th>26</th>\n",
       "      <td>28</td>\n",
       "      <td>Showtime</td>\n",
       "      <td>8.0</td>\n",
       "    </tr>\n",
       "    <tr>\n",
       "      <th>27</th>\n",
       "      <td>29</td>\n",
       "      <td>History</td>\n",
       "      <td>8.7</td>\n",
       "    </tr>\n",
       "    <tr>\n",
       "      <th>28</th>\n",
       "      <td>30</td>\n",
       "      <td>FX</td>\n",
       "      <td>7.8</td>\n",
       "    </tr>\n",
       "    <tr>\n",
       "      <th>29</th>\n",
       "      <td>31</td>\n",
       "      <td>ABC</td>\n",
       "      <td>8.0</td>\n",
       "    </tr>\n",
       "  </tbody>\n",
       "</table>\n",
       "</div>"
      ],
      "text/plain": [
       "    IDs            Networks  Ratings\n",
       "0     1                 CBS      6.5\n",
       "1     2                 CBS      8.9\n",
       "2     3  CTV Sci-Fi Channel      7.5\n",
       "3     4              The CW      7.4\n",
       "4     5                 HBO      8.3\n",
       "5     6              The CW      7.7\n",
       "6     7            Showtime      8.2\n",
       "7     8                 FOX      6.8\n",
       "8     9                 ABC      7.8\n",
       "9    10                 NBC      8.5\n",
       "10   11                 FOX      7.7\n",
       "11   12            Showcase      8.1\n",
       "12   13              The CW      7.8\n",
       "13   14            Showcase      8.2\n",
       "14   15                 NBC      7.5\n",
       "15   16            Showtime      8.3\n",
       "16   18                 CBS      7.8\n",
       "17   19              The CW      8.4\n",
       "18   20                  FX      7.5\n",
       "19   21                 TNT      7.5\n",
       "20   22                 HBO      7.8\n",
       "21   23                 ABC      6.7\n",
       "22   24                 CBS      7.6\n",
       "23   25             Fuji TV      7.8\n",
       "24   26                 TBS      8.3\n",
       "25   27                 NTV      8.8\n",
       "26   28            Showtime      8.0\n",
       "27   29             History      8.7\n",
       "28   30                  FX      7.8\n",
       "29   31                 ABC      8.0"
      ]
     },
     "execution_count": 21,
     "metadata": {},
     "output_type": "execute_result"
    }
   ],
   "source": [
    "\n",
    "allnetworkdata = allnetworkdata.dropna(how=\"any\")\n",
    "allnetworkdata.head(30)"
   ]
  },
  {
   "cell_type": "code",
   "execution_count": 22,
   "metadata": {},
   "outputs": [
    {
     "data": {
      "text/html": [
       "<div>\n",
       "<style scoped>\n",
       "    .dataframe tbody tr th:only-of-type {\n",
       "        vertical-align: middle;\n",
       "    }\n",
       "\n",
       "    .dataframe tbody tr th {\n",
       "        vertical-align: top;\n",
       "    }\n",
       "\n",
       "    .dataframe thead th {\n",
       "        text-align: right;\n",
       "    }\n",
       "</style>\n",
       "<table border=\"1\" class=\"dataframe\">\n",
       "  <thead>\n",
       "    <tr style=\"text-align: right;\">\n",
       "      <th></th>\n",
       "      <th>mean network rating</th>\n",
       "    </tr>\n",
       "    <tr>\n",
       "      <th>Networks</th>\n",
       "      <th></th>\n",
       "    </tr>\n",
       "  </thead>\n",
       "  <tbody>\n",
       "    <tr>\n",
       "      <th>1+1</th>\n",
       "      <td>7.00</td>\n",
       "    </tr>\n",
       "    <tr>\n",
       "      <th>10 Peach</th>\n",
       "      <td>7.50</td>\n",
       "    </tr>\n",
       "    <tr>\n",
       "      <th>A&amp;E</th>\n",
       "      <td>7.31</td>\n",
       "    </tr>\n",
       "    <tr>\n",
       "      <th>ABC</th>\n",
       "      <td>7.32</td>\n",
       "    </tr>\n",
       "    <tr>\n",
       "      <th>ABC Comedy</th>\n",
       "      <td>7.50</td>\n",
       "    </tr>\n",
       "    <tr>\n",
       "      <th>...</th>\n",
       "      <td>...</td>\n",
       "    </tr>\n",
       "    <tr>\n",
       "      <th>Россия 1</th>\n",
       "      <td>7.53</td>\n",
       "    </tr>\n",
       "    <tr>\n",
       "      <th>СТС</th>\n",
       "      <td>5.57</td>\n",
       "    </tr>\n",
       "    <tr>\n",
       "      <th>ТВ-3</th>\n",
       "      <td>5.90</td>\n",
       "    </tr>\n",
       "    <tr>\n",
       "      <th>ТНТ</th>\n",
       "      <td>7.18</td>\n",
       "    </tr>\n",
       "    <tr>\n",
       "      <th>ЦТ СССР</th>\n",
       "      <td>8.15</td>\n",
       "    </tr>\n",
       "  </tbody>\n",
       "</table>\n",
       "<p>219 rows × 1 columns</p>\n",
       "</div>"
      ],
      "text/plain": [
       "            mean network rating\n",
       "Networks                       \n",
       "1+1                        7.00\n",
       "10 Peach                   7.50\n",
       "A&E                        7.31\n",
       "ABC                        7.32\n",
       "ABC Comedy                 7.50\n",
       "...                         ...\n",
       "Россия 1                   7.53\n",
       "СТС                        5.57\n",
       "ТВ-3                       5.90\n",
       "ТНТ                        7.18\n",
       "ЦТ СССР                    8.15\n",
       "\n",
       "[219 rows x 1 columns]"
      ]
     },
     "execution_count": 22,
     "metadata": {},
     "output_type": "execute_result"
    }
   ],
   "source": [
    "#Summary Statistics \n",
    "\n",
    "mean=allnetworkdata.groupby([\"Networks\"]).mean()[\"Ratings\"]\n",
    "\n",
    "analysis_df=pd.DataFrame({\"mean network rating\":mean})\n",
    "\n",
    "# Format\n",
    "\n",
    "analysis_df=analysis_df.round(2)\n",
    "\n",
    "analysis_df"
   ]
  },
  {
   "cell_type": "code",
   "execution_count": 23,
   "metadata": {},
   "outputs": [
    {
     "data": {
      "text/html": [
       "<div>\n",
       "<style scoped>\n",
       "    .dataframe tbody tr th:only-of-type {\n",
       "        vertical-align: middle;\n",
       "    }\n",
       "\n",
       "    .dataframe tbody tr th {\n",
       "        vertical-align: top;\n",
       "    }\n",
       "\n",
       "    .dataframe thead th {\n",
       "        text-align: right;\n",
       "    }\n",
       "</style>\n",
       "<table border=\"1\" class=\"dataframe\">\n",
       "  <thead>\n",
       "    <tr style=\"text-align: right;\">\n",
       "      <th></th>\n",
       "      <th>mean network rating</th>\n",
       "    </tr>\n",
       "    <tr>\n",
       "      <th>Networks</th>\n",
       "      <th></th>\n",
       "    </tr>\n",
       "  </thead>\n",
       "  <tbody>\n",
       "    <tr>\n",
       "      <th>Star TV</th>\n",
       "      <td>9.8</td>\n",
       "    </tr>\n",
       "    <tr>\n",
       "      <th>Smithsonian</th>\n",
       "      <td>9.5</td>\n",
       "    </tr>\n",
       "    <tr>\n",
       "      <th>Channel 9 MCOT HD</th>\n",
       "      <td>9.2</td>\n",
       "    </tr>\n",
       "    <tr>\n",
       "      <th>France 2</th>\n",
       "      <td>9.2</td>\n",
       "    </tr>\n",
       "    <tr>\n",
       "      <th>ESPN2</th>\n",
       "      <td>9.0</td>\n",
       "    </tr>\n",
       "  </tbody>\n",
       "</table>\n",
       "</div>"
      ],
      "text/plain": [
       "                   mean network rating\n",
       "Networks                              \n",
       "Star TV                            9.8\n",
       "Smithsonian                        9.5\n",
       "Channel 9 MCOT HD                  9.2\n",
       "France 2                           9.2\n",
       "ESPN2                              9.0"
      ]
     },
     "execution_count": 23,
     "metadata": {},
     "output_type": "execute_result"
    }
   ],
   "source": [
    "analysis_df.sort_values(by=['mean network rating'], inplace=True, ascending=False)\n",
    "analysis_df.head()\n",
    "\n",
    "#clean\n",
    "clean_analysis_df = analysis_df.dropna(how=\"any\")\n",
    "clean_analysis_df.head()"
   ]
  },
  {
   "cell_type": "code",
   "execution_count": 24,
   "metadata": {},
   "outputs": [
    {
     "data": {
      "text/html": [
       "<div>\n",
       "<style scoped>\n",
       "    .dataframe tbody tr th:only-of-type {\n",
       "        vertical-align: middle;\n",
       "    }\n",
       "\n",
       "    .dataframe tbody tr th {\n",
       "        vertical-align: top;\n",
       "    }\n",
       "\n",
       "    .dataframe thead th {\n",
       "        text-align: right;\n",
       "    }\n",
       "</style>\n",
       "<table border=\"1\" class=\"dataframe\">\n",
       "  <thead>\n",
       "    <tr style=\"text-align: right;\">\n",
       "      <th></th>\n",
       "      <th>mean network rating</th>\n",
       "    </tr>\n",
       "    <tr>\n",
       "      <th>Networks</th>\n",
       "      <th></th>\n",
       "    </tr>\n",
       "  </thead>\n",
       "  <tbody>\n",
       "    <tr>\n",
       "      <th>Star TV</th>\n",
       "      <td>9.80</td>\n",
       "    </tr>\n",
       "    <tr>\n",
       "      <th>Smithsonian</th>\n",
       "      <td>9.50</td>\n",
       "    </tr>\n",
       "    <tr>\n",
       "      <th>Channel 9 MCOT HD</th>\n",
       "      <td>9.20</td>\n",
       "    </tr>\n",
       "    <tr>\n",
       "      <th>France 2</th>\n",
       "      <td>9.20</td>\n",
       "    </tr>\n",
       "    <tr>\n",
       "      <th>ESPN2</th>\n",
       "      <td>9.00</td>\n",
       "    </tr>\n",
       "    <tr>\n",
       "      <th>Lifetime Movies</th>\n",
       "      <td>8.80</td>\n",
       "    </tr>\n",
       "    <tr>\n",
       "      <th>CBS Sports Network</th>\n",
       "      <td>8.80</td>\n",
       "    </tr>\n",
       "    <tr>\n",
       "      <th>BBC Scotland</th>\n",
       "      <td>8.80</td>\n",
       "    </tr>\n",
       "    <tr>\n",
       "      <th>SUN-TV</th>\n",
       "      <td>8.80</td>\n",
       "    </tr>\n",
       "    <tr>\n",
       "      <th>ZDF</th>\n",
       "      <td>8.70</td>\n",
       "    </tr>\n",
       "    <tr>\n",
       "      <th>NDR</th>\n",
       "      <td>8.50</td>\n",
       "    </tr>\n",
       "    <tr>\n",
       "      <th>TVNorge</th>\n",
       "      <td>8.50</td>\n",
       "    </tr>\n",
       "    <tr>\n",
       "      <th>H2</th>\n",
       "      <td>8.50</td>\n",
       "    </tr>\n",
       "    <tr>\n",
       "      <th>Fox Kids</th>\n",
       "      <td>8.45</td>\n",
       "    </tr>\n",
       "    <tr>\n",
       "      <th>Das Erste</th>\n",
       "      <td>8.40</td>\n",
       "    </tr>\n",
       "    <tr>\n",
       "      <th>Channel 10</th>\n",
       "      <td>8.40</td>\n",
       "    </tr>\n",
       "    <tr>\n",
       "      <th>TVNZ 1</th>\n",
       "      <td>8.30</td>\n",
       "    </tr>\n",
       "    <tr>\n",
       "      <th>Create</th>\n",
       "      <td>8.30</td>\n",
       "    </tr>\n",
       "    <tr>\n",
       "      <th>History Asia</th>\n",
       "      <td>8.30</td>\n",
       "    </tr>\n",
       "    <tr>\n",
       "      <th>Really</th>\n",
       "      <td>8.30</td>\n",
       "    </tr>\n",
       "  </tbody>\n",
       "</table>\n",
       "</div>"
      ],
      "text/plain": [
       "                    mean network rating\n",
       "Networks                               \n",
       "Star TV                            9.80\n",
       "Smithsonian                        9.50\n",
       "Channel 9 MCOT HD                  9.20\n",
       "France 2                           9.20\n",
       "ESPN2                              9.00\n",
       "Lifetime Movies                    8.80\n",
       "CBS Sports Network                 8.80\n",
       "BBC Scotland                       8.80\n",
       "SUN-TV                             8.80\n",
       "ZDF                                8.70\n",
       "NDR                                8.50\n",
       "TVNorge                            8.50\n",
       "H2                                 8.50\n",
       "Fox Kids                           8.45\n",
       "Das Erste                          8.40\n",
       "Channel 10                         8.40\n",
       "TVNZ 1                             8.30\n",
       "Create                             8.30\n",
       "History Asia                       8.30\n",
       "Really                             8.30"
      ]
     },
     "execution_count": 24,
     "metadata": {},
     "output_type": "execute_result"
    }
   ],
   "source": [
    "#Top 20 rated networks\n",
    "\n",
    "first20_networks =clean_analysis_df.head(20)\n",
    "\n",
    "first20_networks = pd.DataFrame(first20_networks)\n",
    "newfirst20_networks = first20_networks.reset_index().set_index('Networks')\n",
    "newfirst20_networks"
   ]
  },
  {
   "cell_type": "code",
   "execution_count": 25,
   "metadata": {},
   "outputs": [
    {
     "data": {
      "text/html": [
       "<div>\n",
       "<style scoped>\n",
       "    .dataframe tbody tr th:only-of-type {\n",
       "        vertical-align: middle;\n",
       "    }\n",
       "\n",
       "    .dataframe tbody tr th {\n",
       "        vertical-align: top;\n",
       "    }\n",
       "\n",
       "    .dataframe thead th {\n",
       "        text-align: right;\n",
       "    }\n",
       "</style>\n",
       "<table border=\"1\" class=\"dataframe\">\n",
       "  <thead>\n",
       "    <tr style=\"text-align: right;\">\n",
       "      <th></th>\n",
       "      <th>mean network rating</th>\n",
       "    </tr>\n",
       "    <tr>\n",
       "      <th>Networks</th>\n",
       "      <th></th>\n",
       "    </tr>\n",
       "  </thead>\n",
       "  <tbody>\n",
       "    <tr>\n",
       "      <th>Quest</th>\n",
       "      <td>6.30</td>\n",
       "    </tr>\n",
       "    <tr>\n",
       "      <th>TLC</th>\n",
       "      <td>6.27</td>\n",
       "    </tr>\n",
       "    <tr>\n",
       "      <th>VTM</th>\n",
       "      <td>6.20</td>\n",
       "    </tr>\n",
       "    <tr>\n",
       "      <th>Pop</th>\n",
       "      <td>6.15</td>\n",
       "    </tr>\n",
       "    <tr>\n",
       "      <th>E!</th>\n",
       "      <td>6.04</td>\n",
       "    </tr>\n",
       "    <tr>\n",
       "      <th>France 4</th>\n",
       "      <td>6.00</td>\n",
       "    </tr>\n",
       "    <tr>\n",
       "      <th>AXS TV</th>\n",
       "      <td>6.00</td>\n",
       "    </tr>\n",
       "    <tr>\n",
       "      <th>City</th>\n",
       "      <td>6.00</td>\n",
       "    </tr>\n",
       "    <tr>\n",
       "      <th>ТВ-3</th>\n",
       "      <td>5.90</td>\n",
       "    </tr>\n",
       "    <tr>\n",
       "      <th>Kanal 5</th>\n",
       "      <td>5.70</td>\n",
       "    </tr>\n",
       "    <tr>\n",
       "      <th>RTL</th>\n",
       "      <td>5.70</td>\n",
       "    </tr>\n",
       "    <tr>\n",
       "      <th>СТС</th>\n",
       "      <td>5.57</td>\n",
       "    </tr>\n",
       "    <tr>\n",
       "      <th>Gold</th>\n",
       "      <td>5.55</td>\n",
       "    </tr>\n",
       "    <tr>\n",
       "      <th>UP TV</th>\n",
       "      <td>5.45</td>\n",
       "    </tr>\n",
       "    <tr>\n",
       "      <th>MSNBC</th>\n",
       "      <td>5.35</td>\n",
       "    </tr>\n",
       "    <tr>\n",
       "      <th>nick@nite</th>\n",
       "      <td>5.20</td>\n",
       "    </tr>\n",
       "    <tr>\n",
       "      <th>FOX News Channel</th>\n",
       "      <td>5.07</td>\n",
       "    </tr>\n",
       "    <tr>\n",
       "      <th>TVP2</th>\n",
       "      <td>4.80</td>\n",
       "    </tr>\n",
       "    <tr>\n",
       "      <th>CNN</th>\n",
       "      <td>4.74</td>\n",
       "    </tr>\n",
       "    <tr>\n",
       "      <th>ITV Be</th>\n",
       "      <td>3.00</td>\n",
       "    </tr>\n",
       "  </tbody>\n",
       "</table>\n",
       "</div>"
      ],
      "text/plain": [
       "                  mean network rating\n",
       "Networks                             \n",
       "Quest                            6.30\n",
       "TLC                              6.27\n",
       "VTM                              6.20\n",
       "Pop                              6.15\n",
       "E!                               6.04\n",
       "France 4                         6.00\n",
       "AXS TV                           6.00\n",
       "City                             6.00\n",
       "ТВ-3                             5.90\n",
       "Kanal 5                          5.70\n",
       "RTL                              5.70\n",
       "СТС                              5.57\n",
       "Gold                             5.55\n",
       "UP TV                            5.45\n",
       "MSNBC                            5.35\n",
       "nick@nite                        5.20\n",
       "FOX News Channel                 5.07\n",
       "TVP2                             4.80\n",
       "CNN                              4.74\n",
       "ITV Be                           3.00"
      ]
     },
     "execution_count": 25,
     "metadata": {},
     "output_type": "execute_result"
    }
   ],
   "source": [
    "#Lowest rated networks\n",
    "\n",
    "last20_networks =clean_analysis_df.tail(20)\n",
    "\n",
    "last20_networks = pd.DataFrame(last20_networks)\n",
    "newlast20_networks = last20_networks.reset_index().set_index('Networks')\n",
    "newlast20_networks"
   ]
  },
  {
   "cell_type": "code",
   "execution_count": 109,
   "metadata": {},
   "outputs": [],
   "source": [
    "ratingslast20=newlast20_networks['mean network rating']\n",
    "ratingsfirst20=newfirst20_networks['mean network rating']"
   ]
  },
  {
   "cell_type": "code",
   "execution_count": 67,
   "metadata": {},
   "outputs": [],
   "source": [
    "\n",
    "#pulling the top mean network names to do an ANOVA on these networks\n",
    "NetworkslistLast20 = newlast20_networks.index.tolist()\n",
    "Networkslistfirst20 = newfirst20_networks.index.tolist()"
   ]
  },
  {
   "cell_type": "markdown",
   "metadata": {},
   "source": [
    "#### Last 20 Networks Analysis"
   ]
  },
  {
   "cell_type": "code",
   "execution_count": 82,
   "metadata": {},
   "outputs": [],
   "source": [
    "#ANOVA for Last 20\n",
    "\n",
    "Network11 = allnetworkdata[allnetworkdata['Networks'] == NetworkslistLast20[0]]['Ratings']\n",
    "Network21 = allnetworkdata[allnetworkdata['Networks'] == NetworkslistLast20[1]]['Ratings']\n",
    "Network31 = allnetworkdata[allnetworkdata['Networks'] == NetworkslistLast20[2]]['Ratings']\n",
    "Network41 = allnetworkdata[allnetworkdata['Networks'] == NetworkslistLast20[3]]['Ratings']\n",
    "Network51 = allnetworkdata[allnetworkdata['Networks'] == NetworkslistLast20[4]]['Ratings']\n",
    "Network61 = allnetworkdata[allnetworkdata['Networks'] == NetworkslistLast20[5]]['Ratings']\n",
    "Network71 = allnetworkdata[allnetworkdata['Networks'] == NetworkslistLast20[6]]['Ratings']\n",
    "Network81 = allnetworkdata[allnetworkdata['Networks'] == NetworkslistLast20[7]]['Ratings']\n",
    "Network91 = allnetworkdata[allnetworkdata['Networks'] == NetworkslistLast20[8]]['Ratings']\n",
    "Network101 = allnetworkdata[allnetworkdata['Networks'] == NetworkslistLast20[9]]['Ratings']\n",
    "Network111 = allnetworkdata[allnetworkdata['Networks'] == NetworkslistLast20[10]]['Ratings']\n",
    "Network121 = allnetworkdata[allnetworkdata['Networks'] == NetworkslistLast20[11]]['Ratings']\n",
    "Network131 = allnetworkdata[allnetworkdata['Networks'] == NetworkslistLast20[12]]['Ratings']\n",
    "Network141 = allnetworkdata[allnetworkdata['Networks'] == NetworkslistLast20[13]]['Ratings']\n",
    "Network151 = allnetworkdata[allnetworkdata['Networks'] == NetworkslistLast20[14]]['Ratings']\n",
    "Network161 = allnetworkdata[allnetworkdata['Networks'] == NetworkslistLast20[15]]['Ratings']\n",
    "Network171 = allnetworkdata[allnetworkdata['Networks'] == NetworkslistLast20[16]]['Ratings']\n",
    "Network181 = allnetworkdata[allnetworkdata['Networks'] == NetworkslistLast20[17]]['Ratings']\n",
    "Network191 = allnetworkdata[allnetworkdata['Networks'] == NetworkslistLast20[18]]['Ratings']\n",
    "Network201 = allnetworkdata[allnetworkdata['Networks'] == NetworkslistLast20[19]]['Ratings']\n"
   ]
  },
  {
   "cell_type": "code",
   "execution_count": 83,
   "metadata": {},
   "outputs": [
    {
     "name": "stdout",
     "output_type": "stream",
     "text": [
      "The p value is: 0.6244774130677446. We fail to reject the null hypothesis that the data do not differ significantly from normality.\n"
     ]
    }
   ],
   "source": [
    "stat, p = levene(Network11, Network21, Network31,Network41, Network51, Network61,Network71, Network81, Network91,Network101, Network111, Network121,Network131, Network141, Network151,Network161, Network171, Network181,Network191, Network201)\n",
    "print(f\"The p value is: {p}. We fail to reject the null hypothesis that the data do not differ significantly from normality.\")"
   ]
  },
  {
   "cell_type": "code",
   "execution_count": 84,
   "metadata": {},
   "outputs": [
    {
     "data": {
      "text/plain": [
       "F_onewayResult(statistic=0.28542618418362137, pvalue=0.9969904045719367)"
      ]
     },
     "execution_count": 84,
     "metadata": {},
     "output_type": "execute_result"
    }
   ],
   "source": [
    "stats.f_oneway(Network11, Network21, Network31,Network41, Network51, Network61,Network71, Network81, Network91,Network101, Network111, Network121,Network131, Network141, Network151,Network161, Network171, Network181,Network191, Network201)"
   ]
  },
  {
   "cell_type": "markdown",
   "metadata": {},
   "source": [
    "The ratings of the 20 lowest rated networks were compared using a one-way ANOVA. No significant differences were found. (F(?DF) = 0.285, p=0.99)."
   ]
  },
  {
   "cell_type": "markdown",
   "metadata": {},
   "source": [
    "#### First 20 Networks Analysis"
   ]
  },
  {
   "cell_type": "code",
   "execution_count": 85,
   "metadata": {},
   "outputs": [],
   "source": [
    "Network = allnetworkdata[allnetworkdata['Networks'] == Networkslistfirst20[0]]['Ratings']\n",
    "Network2 = allnetworkdata[allnetworkdata['Networks'] == Networkslistfirst20[1]]['Ratings']\n",
    "Network3 = allnetworkdata[allnetworkdata['Networks'] == Networkslistfirst20[2]]['Ratings']\n",
    "Network4 = allnetworkdata[allnetworkdata['Networks'] == Networkslistfirst20[3]]['Ratings']\n",
    "Network5 = allnetworkdata[allnetworkdata['Networks'] == Networkslistfirst20[4]]['Ratings']\n",
    "Network6 = allnetworkdata[allnetworkdata['Networks'] == Networkslistfirst20[5]]['Ratings']\n",
    "Network7 = allnetworkdata[allnetworkdata['Networks'] == Networkslistfirst20[6]]['Ratings']\n",
    "Network8 = allnetworkdata[allnetworkdata['Networks'] == Networkslistfirst20[7]]['Ratings']\n",
    "Network9 = allnetworkdata[allnetworkdata['Networks'] == Networkslistfirst20[8]]['Ratings']\n",
    "Network10 = allnetworkdata[allnetworkdata['Networks'] == Networkslistfirst20[9]]['Ratings']\n",
    "Network11 = allnetworkdata[allnetworkdata['Networks'] == Networkslistfirst20[10]]['Ratings']\n",
    "Network12 = allnetworkdata[allnetworkdata['Networks'] == Networkslistfirst20[11]]['Ratings']\n",
    "Network13 = allnetworkdata[allnetworkdata['Networks'] == Networkslistfirst20[12]]['Ratings']\n",
    "Network14 = allnetworkdata[allnetworkdata['Networks'] == Networkslistfirst20[13]]['Ratings']\n",
    "Network15 = allnetworkdata[allnetworkdata['Networks'] == Networkslistfirst20[14]]['Ratings']\n",
    "Network16 = allnetworkdata[allnetworkdata['Networks'] == Networkslistfirst20[15]]['Ratings']\n",
    "Network17 = allnetworkdata[allnetworkdata['Networks'] == Networkslistfirst20[16]]['Ratings']\n",
    "Network18 = allnetworkdata[allnetworkdata['Networks'] == Networkslistfirst20[17]]['Ratings']\n",
    "Network19 = allnetworkdata[allnetworkdata['Networks'] == Networkslistfirst20[18]]['Ratings']\n",
    "Network20 = allnetworkdata[allnetworkdata['Networks'] == Networkslistfirst20[19]]['Ratings']"
   ]
  },
  {
   "cell_type": "code",
   "execution_count": 86,
   "metadata": {},
   "outputs": [
    {
     "name": "stdout",
     "output_type": "stream",
     "text": [
      "The p value is: 7.766198643075823e-44. We reject the null hypothesis that the data do not differ significantly from normality.\n"
     ]
    }
   ],
   "source": [
    "stat, p = levene(Network1, Network2, Network3,Network4, Network5, Network6,Network7, Network8, Network9,Network10, Network11, Network12,Network13, Network14, Network15,Network16, Network17, Network18,Network19, Network20)\n",
    "print(f\"The p value is: {p}. We reject the null hypothesis that the data do not differ significantly from normality.\")"
   ]
  },
  {
   "cell_type": "code",
   "execution_count": 87,
   "metadata": {},
   "outputs": [
    {
     "data": {
      "text/plain": [
       "KruskalResult(statistic=15.378289473684205, pvalue=0.698270108857485)"
      ]
     },
     "execution_count": 87,
     "metadata": {},
     "output_type": "execute_result"
    }
   ],
   "source": [
    "stats.kruskal(Network1, Network2, Network3,Network4, Network5, Network6,Network7, Network8, Network9,Network10, Network11, Network12,Network13, Network14, Network15,Network16, Network17, Network18,Network19, Network20)"
   ]
  },
  {
   "cell_type": "markdown",
   "metadata": {},
   "source": [
    "The ratings of the 20 highest rated networks were compared using a Kruskal-Wallis H Test. No significant differences were found. (H(?DF) = 15.37, p=0.69)."
   ]
  },
  {
   "cell_type": "markdown",
   "metadata": {},
   "source": [
    "#### Differences between the average rating of the top 20 and last 20 networks analysis"
   ]
  },
  {
   "cell_type": "code",
   "execution_count": 112,
   "metadata": {},
   "outputs": [
    {
     "name": "stdout",
     "output_type": "stream",
     "text": [
      "The p value is: 0.23516341365909896. We fail to reject the null hypothesis that the data do not differ significantly from normality.\n"
     ]
    }
   ],
   "source": [
    "stat, p = levene(ratingsfirst20, ratingslast20)\n",
    "print(f\"The p value is: {p}. We fail to reject the null hypothesis that the data do not differ significantly from normality.\")"
   ]
  },
  {
   "cell_type": "code",
   "execution_count": 110,
   "metadata": {},
   "outputs": [
    {
     "data": {
      "text/plain": [
       "Ttest_indResult(statistic=16.285735379854053, pvalue=2.0840968904129293e-16)"
      ]
     },
     "execution_count": 110,
     "metadata": {},
     "output_type": "execute_result"
    }
   ],
   "source": [
    "stats.ttest_ind(ratingsfirst20, ratingslast20, equal_var=False)"
   ]
  },
  {
   "cell_type": "code",
   "execution_count": 115,
   "metadata": {},
   "outputs": [
    {
     "name": "stdout",
     "output_type": "stream",
     "text": [
      "8.727500000000003\n",
      "5.5495\n",
      "0.4271924871210066\n",
      "0.7609860293343796\n"
     ]
    }
   ],
   "source": [
    "print(ratingsfirst20.mean())\n",
    "print(ratingslast20.mean())\n",
    "print(ratingsfirst20.std())\n",
    "print(ratingslast20.std())"
   ]
  },
  {
   "cell_type": "markdown",
   "metadata": {},
   "source": [
    "The ratings of the top and bottom 20 rated networks were compared with an independent samples t-test. The top 20 networks (M=8.7275, SD=0.427) and the last 20 networks (M=5.549, SD=0.760) were significantly different (t(?DF)= 16.28, p=2.084e-16). "
   ]
  },
  {
   "cell_type": "markdown",
   "metadata": {},
   "source": [
    "# TV Show Analyses"
   ]
  },
  {
   "cell_type": "code",
   "execution_count": 15,
   "metadata": {},
   "outputs": [],
   "source": [
    "# Study data files\n",
    "\n",
    "first20show = \"Data/First20Shows.csv\"\n",
    "\n",
    "# Read the show data and the study results\n",
    "\n",
    "top20shows = pd.read_csv(first20show)"
   ]
  },
  {
   "cell_type": "code",
   "execution_count": 16,
   "metadata": {},
   "outputs": [
    {
     "data": {
      "text/html": [
       "<div>\n",
       "<style scoped>\n",
       "    .dataframe tbody tr th:only-of-type {\n",
       "        vertical-align: middle;\n",
       "    }\n",
       "\n",
       "    .dataframe tbody tr th {\n",
       "        vertical-align: top;\n",
       "    }\n",
       "\n",
       "    .dataframe thead th {\n",
       "        text-align: right;\n",
       "    }\n",
       "</style>\n",
       "<table border=\"1\" class=\"dataframe\">\n",
       "  <thead>\n",
       "    <tr style=\"text-align: right;\">\n",
       "      <th></th>\n",
       "      <th>Ratings</th>\n",
       "    </tr>\n",
       "  </thead>\n",
       "  <tbody>\n",
       "    <tr>\n",
       "      <th>0</th>\n",
       "      <td>9.8</td>\n",
       "    </tr>\n",
       "    <tr>\n",
       "      <th>1</th>\n",
       "      <td>9.8</td>\n",
       "    </tr>\n",
       "    <tr>\n",
       "      <th>2</th>\n",
       "      <td>9.5</td>\n",
       "    </tr>\n",
       "    <tr>\n",
       "      <th>3</th>\n",
       "      <td>9.5</td>\n",
       "    </tr>\n",
       "    <tr>\n",
       "      <th>4</th>\n",
       "      <td>9.4</td>\n",
       "    </tr>\n",
       "  </tbody>\n",
       "</table>\n",
       "</div>"
      ],
      "text/plain": [
       "   Ratings\n",
       "0      9.8\n",
       "1      9.8\n",
       "2      9.5\n",
       "3      9.5\n",
       "4      9.4"
      ]
     },
     "execution_count": 16,
     "metadata": {},
     "output_type": "execute_result"
    }
   ],
   "source": [
    "top20shows.head()"
   ]
  },
  {
   "cell_type": "code",
   "execution_count": null,
   "metadata": {},
   "outputs": [],
   "source": []
  }
 ],
 "metadata": {
  "kernelspec": {
   "display_name": "Python 3",
   "language": "python",
   "name": "python3"
  },
  "language_info": {
   "codemirror_mode": {
    "name": "ipython",
    "version": 3
   },
   "file_extension": ".py",
   "mimetype": "text/x-python",
   "name": "python",
   "nbconvert_exporter": "python",
   "pygments_lexer": "ipython3",
   "version": "3.8.3"
  }
 },
 "nbformat": 4,
 "nbformat_minor": 4
}
